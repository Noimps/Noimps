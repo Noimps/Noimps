{
  "cells": [
    {
      "cell_type": "markdown",
      "metadata": {
        "id": "view-in-github",
        "colab_type": "text"
      },
      "source": [
        "<a href=\"https://colab.research.google.com/github/Noimps/Noimps/blob/main/perceptron.ipynb\" target=\"_parent\"><img src=\"https://colab.research.google.com/assets/colab-badge.svg\" alt=\"Open In Colab\"/></a>"
      ]
    },
    {
      "cell_type": "markdown",
      "metadata": {
        "id": "pujRmQDCvvyf"
      },
      "source": [
        "## A brief introduction to Python\n",
        "\n",
        "This is a Machine Learning course, and not a programming course. However, you need to program in order to run Machine Learning algorithms. In this course, we use Python, one of the most popular programming languages today. It was released for the first time in 1990, but gained extreme popularity in the last 15 years, hand in hand with the increasing importance of the world wide web, big data and data science. We use **Python 3** in the course to make full use of the features of the latest generation.\n",
        "\n",
        "There is a lot of free literature about Python available that you can use for the course in addition to the lecture notes provided. Especially if you have difficulties understanding a particular concept, it is often a good idea to look at alternative explanations. Here are some links to useful Python online books:\n",
        "\n",
        "* https://runestone.academy/ns/books/published/pythonds/index.html (“Problem Solving with Algorithms and Data Structures using Python”)\n",
        "* https://python.swaroopch.com (“A Byte of Python”, especially for beginners)\n",
        "* http://greenteapress.com/wp/think-python-2e/ (“Think Python”, also targeted at beginners)\n",
        "* https://docs.python.org/3/tutorial/index.html (the official Python tutorial)\n",
        "\n",
        "During the course we will work with the [Anaconda Python Data Science Platform](https://www.anaconda.com/); in particular we will use the Spyder Integrated Development Environment (IDE) and Jupyter notebooks. Below are instructions for installation and first steps with these environments."
      ]
    },
    {
      "cell_type": "markdown",
      "metadata": {
        "id": "GW_WoIV8vvyk"
      },
      "source": [
        "## Python setup\n",
        "\n",
        "In this course we use Python 3, and we do most of the programming in Jupyter notebooks (this lab is written in a Jupyter notebook).\n",
        "\n",
        "**Easy installation** The easiest (and recommended) way to get the required software is to install Anaconda. Anaconda is a free and open source distribution of Python and some other programming languages used in scientific applications. It runs on all major operating systems and provides a number of very useful tools for Python programming.\n",
        "Here is what you have to do to get started:\n",
        "\n",
        "1. Go to https://docs.anaconda.com/anaconda/install/ and follow the installation instructions for your operating system. \n",
        "\n",
        "2. Go to https://docs.anaconda.com/anaconda/user-guide/getting-started/#open-nav-lin and follow the instructions how to start Spyder.\n",
        "\n",
        "**Manual installation** You can also choose to install Python manually on your computer. How to do this depends on your operating system:\n",
        "\n",
        "* Windows: https://www.python.org/downloads/windows/\n",
        "\n",
        "* Mac OS X: install Python via [Fink](https://www.finkproject.org/) or [Homebrew](https://brew.sh/)\n",
        "\n",
        "* Linux: install Python via [Apt](https://wiki.debian.org/Apt) or whichever package manager corresponds to your distribution\n",
        "\n",
        "If you go for the manual option, make sure that you have numpy and matplotlib installed. You typically do this using [Pip](https://pypi.org/project/pip/). Note that most of the instructions written in the labs for this course assume you are using Anaconda.\n",
        "\n",
        "**Last-resort option** If you have (unresolvable) trouble with the installation of Anaconda on your device, you can use it also via UU’s MyWorkplace (https://myworkplace.uu.nl/). The app that you need to start is called “Spyder Anaconda3”."
      ]
    },
    {
      "cell_type": "markdown",
      "metadata": {
        "id": "bYA5FJVkvvym"
      },
      "source": [
        "## Python versus C#\n",
        "\n",
        "You probably have taken the course \"Modelleren en programmeren\", where you have learned C#. It might be useful to get a quick overview of how Python differs from C#. Let's look at a simple program in C#, which asks the user to enter their name and then prints out a message:\n",
        "\n",
        "<img src=\"csharp.png\" alt=\"drawing\" width=\"600\"/>\n",
        "\n",
        "Note that we need about 10 lines of code to do this. Let's write the same program in Python:"
      ]
    },
    {
      "cell_type": "code",
      "execution_count": null,
      "metadata": {
        "id": "Hxb6w4Pivvyn"
      },
      "outputs": [],
      "source": [
        "user_name = input()\n",
        "print(f'Hello, {user_name}. How are you today?')"
      ]
    },
    {
      "cell_type": "markdown",
      "metadata": {
        "id": "jsA-KYR4vvyp"
      },
      "source": [
        "Notice that we accomplished the same in 2 lines of code. That is one of the characteristics of Python: it is very compact. Furthermore, unlike in C#, we can write code without encapsulating it in a class. Finally, as we will see further, scope in Python is not determined by curly brackets, but rather by indentation. The C# code shown above contains three lines within the scope of the `Main` function, and they are all indented differently; this would cause errors in Python. Here is a function with correct indentation:"
      ]
    },
    {
      "cell_type": "code",
      "execution_count": null,
      "metadata": {
        "id": "iWFcSE8Wvvyq"
      },
      "outputs": [],
      "source": [
        "def print_message(name):\n",
        "    print(f'Hello, {name}. How are you today?')\n",
        "    \n",
        "user_name = input()\n",
        "print_message(user_name)"
      ]
    },
    {
      "cell_type": "markdown",
      "metadata": {
        "id": "CB9RltW6vvyr"
      },
      "source": [
        "The `using` keyword from C# roughly equates to `import` in Python, which we will use in this course. Other differences between Python and C#:\n",
        "\n",
        "* variable types do not have to be declared (see `user_name` above) in Python\n",
        "\n",
        "* C# is developed by Microsoft, Python is open-source\n",
        "\n",
        "* C# is compiled, Python is interpreted (you don't compile programs before running)\n",
        "\n",
        "* Python has a huge set of pre-packaged libraries\n",
        "\n",
        "Note that, as of recent Python versions, you are allowed to specified the expected types of the arguments of a function, as well as the return type. This is optional, but can sometimes make a function easier to read. For example:"
      ]
    },
    {
      "cell_type": "code",
      "execution_count": null,
      "metadata": {
        "id": "67yMm5Eqvvyr"
      },
      "outputs": [],
      "source": [
        "def concatenate_strings(word1: str, word2: str) -> str:\n",
        "    return word1 + word2\n",
        "\n",
        "# As opposed to:\n",
        "\n",
        "def concatenate_strings(word1, word2):\n",
        "    return word1 + word2"
      ]
    },
    {
      "cell_type": "markdown",
      "metadata": {
        "id": "0t47jYXlvvys"
      },
      "source": [
        "## Starting the notebook\n",
        "\n",
        "Download the notebook from Blackboard. Use Anaconda Navigator to open Jupyter Notebooks, then open this notebook. Your web browser will open.\n",
        "\n",
        "<img src=\"jupyter_home.png\" alt=\"drawing\" width=\"600\"/>\n",
        "\n",
        "Navigate to the location where you saved your notebook for this lab, and click on it. This notebook will open in the same browser."
      ]
    },
    {
      "cell_type": "markdown",
      "metadata": {
        "id": "3pWTn3Kivvys"
      },
      "source": [
        "## Perceptron\n",
        "\n",
        "Consider the perceptron that you have seen in class, in two dimensions \n",
        "\n",
        "$h(x) = sign(w^Tx)$ \n",
        "\n",
        "where \n",
        "\n",
        "$w=[w_o, w_1, w_2]^T$ \n",
        "\n",
        "and \n",
        "\n",
        "$x = [1, x_1, x_2]^T$ \n",
        "\n",
        "(Technically, $x$ has three dimensions, but we call this a two-dimensional perceptron because the first dimension is fixed to 1).\n",
        "\n",
        "In the following sections, you will complete a series of functions and code snippets to work with a perceptron and the perceptron learning algorithm. Fill in the parts labeled \"FILL IN\".\n",
        "\n",
        "In Python, a `list` is a mutable collection of objects arranged in a sequence. A collection of datapoints can naturally be expressed as a list. A `tuple` is an immutable collection of objects arranged in a sequence; a tuple is an immutable list. The coordinates of a datapoint can naturally be expressed as a tuple."
      ]
    },
    {
      "cell_type": "markdown",
      "metadata": {
        "tags": [],
        "id": "2Tc-ss9ivvyt"
      },
      "source": [
        "**1a. Implement the *perceptron learning algorithm* (PLA)** (section 1.1.2 in the book) in Python (1 point)"
      ]
    },
    {
      "cell_type": "markdown",
      "metadata": {
        "id": "0z1N-0qcvvyt"
      },
      "source": [
        "**Answer.**"
      ]
    },
    {
      "cell_type": "code",
      "execution_count": null,
      "metadata": {
        "id": "Qvh05-Yovvyt"
      },
      "outputs": [],
      "source": [
        "def sign(val: float) -> int:\n",
        "    if val > 0:\n",
        "        return 1\n",
        "    else:\n",
        "        return -1\n",
        "    \n",
        "def initialize_weights(d: int) -> tuple:\n",
        "    # This initializes a d-dimensional tuple with 0 in all the dimensions\n",
        "    return tuple([0 for _ in range(d)])\n",
        "\n",
        "def perceptron(x: tuple, w: tuple) -> int:\n",
        "    \"\"\"\n",
        "    x is a tuple of coordinates; the 0th element is 1. For example, x could be (1, -3.43, 0.75)\n",
        "    w is a tuple of weights; the 0th element is the bias. For example, w could be (-0.83, 10.96, 1.06)\n",
        "    \n",
        "    The return value h should be a hypothesis (+1 or -1) for the datapoint x given the weights w\n",
        "    \"\"\"\n",
        "    i = 0\n",
        "    a = 0\n",
        "    for i in range(len(x)):\n",
        "        a = a + x[i] * w[i]\n",
        "    h = sign(a)\n",
        "    \n",
        "    return h\n",
        "\n",
        "def update_weights(x_t: tuple, y_t: int, w_t: tuple) -> tuple:\n",
        "    \"\"\"\n",
        "    This is the update rule for the PLA; Eq. 1.3 in the book\n",
        "    The return value w_t_plus_1 should be the updated weights (w0, w1, w2) at iteration step t+1\n",
        "    \"\"\"\n",
        "    w_t_plus_1 = []\n",
        "    \n",
        "    for i in range(len(w_t)):\n",
        "        w_t_plus_1.append(w_t[i] + y_t * x_t[i])\n",
        " \n",
        "    return w_t_plus_1\n",
        "\n",
        "def learn_weights(xn: list, yn: list) -> tuple:   \n",
        "    w = initialize_weights(len(xn[1]))\n",
        "    t = 1\n",
        "    h = []\n",
        "    while h != yn:\n",
        "        h = []\n",
        "        for i in range(len(yn)):\n",
        "            h.append(perceptron(xn[i], w))\n",
        "            if yn[i] != h[i]:\n",
        "                w = update_weights(xn[i], yn[i], w)\n",
        "                \n",
        "            t += 1\n",
        "    print(f'Converged in {t} iterations')\n",
        "    return w"
      ]
    },
    {
      "cell_type": "markdown",
      "metadata": {
        "id": "bpFhlpIqvvyu"
      },
      "source": [
        "If your code is correct, the following cell should raise no errors."
      ]
    },
    {
      "cell_type": "code",
      "execution_count": null,
      "metadata": {
        "colab": {
          "base_uri": "https://localhost:8080/"
        },
        "id": "f5yuXvOnvvyu",
        "outputId": "09514e97-75e1-40c5-a566-27cdc3ea33dc"
      },
      "outputs": [
        {
          "output_type": "stream",
          "name": "stdout",
          "text": [
            "perceptron works\n",
            "update_weights works\n"
          ]
        }
      ],
      "source": [
        "def test_perceptron():\n",
        "    assert 1 == perceptron([3, 4, 5], [0, 1, 2])\n",
        "    print('perceptron works')\n",
        "    \n",
        "def test_update_weights():\n",
        "    assert [-3, -3, -3] == update_weights([3, 4, 5], -1, [0, 1, 2])\n",
        "    print('update_weights works')\n",
        "    \n",
        "test_perceptron()\n",
        "test_update_weights()"
      ]
    },
    {
      "cell_type": "markdown",
      "metadata": {
        "id": "MShMhlZevvyu"
      },
      "source": [
        "**1b. Test your program on a toy dataset of 3 datapoints** (1 point)\n",
        "\n",
        "Create these datapoints and run your program:\n",
        "\n",
        "(1, 0.5, 1.5) -> +1\n",
        "\n",
        "(1, 4.3, -0.3) -> -1\n",
        "\n",
        "(1, -3.2, 2.2) -> +1"
      ]
    },
    {
      "cell_type": "markdown",
      "metadata": {
        "id": "51-uRAfvvvyv"
      },
      "source": [
        "**Answer.**"
      ]
    },
    {
      "cell_type": "code",
      "execution_count": null,
      "metadata": {
        "colab": {
          "base_uri": "https://localhost:8080/"
        },
        "id": "JM6XAlTtvvyv",
        "outputId": "2593f4c9-c14b-4566-c49b-5c57027c44b9"
      },
      "outputs": [
        {
          "output_type": "stream",
          "name": "stdout",
          "text": [
            "Converged in 7 iterations\n",
            "[0, -3.8, 1.8]\n"
          ]
        }
      ],
      "source": [
        "x3 = [[1, 0.5, 1.5],\n",
        "      [1, 4.3, -0.3],\n",
        "      [1, -3.2, 2.2]]\n",
        "y3 = [1, -1, 1]\n",
        "\n",
        "print(learn_weights(x3, y3))"
      ]
    },
    {
      "cell_type": "markdown",
      "metadata": {
        "id": "JwwZWfAfvvyv"
      },
      "source": [
        "If your code is correct, the following cell should raise no errors."
      ]
    },
    {
      "cell_type": "code",
      "execution_count": null,
      "metadata": {
        "colab": {
          "base_uri": "https://localhost:8080/",
          "height": 321
        },
        "id": "saVblussvvyw",
        "outputId": "b62d8043-e5f1-4a9d-8ca5-9f02850a8871"
      },
      "outputs": [
        {
          "output_type": "error",
          "ename": "AssertionError",
          "evalue": "ignored",
          "traceback": [
            "\u001b[0;31m---------------------------------------------------------------------------\u001b[0m",
            "\u001b[0;31mAssertionError\u001b[0m                            Traceback (most recent call last)",
            "\u001b[0;32m<ipython-input-23-358a5b3584d7>\u001b[0m in \u001b[0;36m<cell line: 5>\u001b[0;34m()\u001b[0m\n\u001b[1;32m      3\u001b[0m     \u001b[0mprint\u001b[0m\u001b[0;34m(\u001b[0m\u001b[0;34m'Your test was correct'\u001b[0m\u001b[0;34m)\u001b[0m\u001b[0;34m\u001b[0m\u001b[0;34m\u001b[0m\u001b[0m\n\u001b[1;32m      4\u001b[0m \u001b[0;34m\u001b[0m\u001b[0m\n\u001b[0;32m----> 5\u001b[0;31m \u001b[0mtest_test_learn_weights\u001b[0m\u001b[0;34m(\u001b[0m\u001b[0;34m)\u001b[0m\u001b[0;34m\u001b[0m\u001b[0;34m\u001b[0m\u001b[0m\n\u001b[0m",
            "\u001b[0;32m<ipython-input-23-358a5b3584d7>\u001b[0m in \u001b[0;36mtest_test_learn_weights\u001b[0;34m()\u001b[0m\n\u001b[1;32m      1\u001b[0m \u001b[0;32mdef\u001b[0m \u001b[0mtest_test_learn_weights\u001b[0m\u001b[0;34m(\u001b[0m\u001b[0;34m)\u001b[0m\u001b[0;34m:\u001b[0m\u001b[0;34m\u001b[0m\u001b[0;34m\u001b[0m\u001b[0m\n\u001b[0;32m----> 2\u001b[0;31m     \u001b[0;32massert\u001b[0m \u001b[0;34m[\u001b[0m\u001b[0;36m0\u001b[0m\u001b[0;34m,\u001b[0m \u001b[0;34m-\u001b[0m\u001b[0;36m3.8\u001b[0m\u001b[0;34m,\u001b[0m \u001b[0;36m1.8\u001b[0m\u001b[0;34m]\u001b[0m \u001b[0;34m==\u001b[0m \u001b[0mw\u001b[0m\u001b[0;34m\u001b[0m\u001b[0;34m\u001b[0m\u001b[0m\n\u001b[0m\u001b[1;32m      3\u001b[0m     \u001b[0mprint\u001b[0m\u001b[0;34m(\u001b[0m\u001b[0;34m'Your test was correct'\u001b[0m\u001b[0;34m)\u001b[0m\u001b[0;34m\u001b[0m\u001b[0;34m\u001b[0m\u001b[0m\n\u001b[1;32m      4\u001b[0m \u001b[0;34m\u001b[0m\u001b[0m\n\u001b[1;32m      5\u001b[0m \u001b[0mtest_test_learn_weights\u001b[0m\u001b[0;34m(\u001b[0m\u001b[0;34m)\u001b[0m\u001b[0;34m\u001b[0m\u001b[0;34m\u001b[0m\u001b[0m\n",
            "\u001b[0;31mAssertionError\u001b[0m: "
          ]
        }
      ],
      "source": [
        "def test_test_learn_weights():\n",
        "    assert [0, -3.8, 1.8] == w\n",
        "    print('Your test was correct')\n",
        "    \n",
        "test_test_learn_weights()"
      ]
    },
    {
      "cell_type": "markdown",
      "metadata": {
        "id": "u6PdT-LEvvyw"
      },
      "source": [
        "**2. Generate a linearly separable dataset in two dimensions** (1 point)\n",
        "\n",
        "Choose a random line in the plane as the target function, where one side of the line maps to +1 and the other maps to -1. Choose the inputs $x_n$ ($N=20$) to be random points in the plane, and evaluate the target function on each $x_n$ to get the corresponding output $y_n$."
      ]
    },
    {
      "cell_type": "markdown",
      "metadata": {
        "id": "7hUanwTjvvyw"
      },
      "source": [
        "**Answer.**"
      ]
    },
    {
      "cell_type": "code",
      "execution_count": null,
      "metadata": {
        "id": "Ibb3xy0Lvvyx"
      },
      "outputs": [],
      "source": [
        "import  random\n",
        "\n",
        "SLOPE, INTERCEPT = random.uniform(-10, 10), random.uniform(-10, 10)\n",
        "MAX_VAL = 100\n",
        "\n",
        "def get_random_point():\n",
        "    x1 = random.uniform(-MAX_VAL, MAX_VAL)\n",
        "    x2 = random.uniform(-MAX_VAL, MAX_VAL)\n",
        "    return (1, x1, x2)\n",
        "\n",
        "def target(x):\n",
        "    \"\"\"\n",
        "    x is a datapoint; it is expressed as a tuple of the form (1, x1, x2)\n",
        "    \"\"\"\n",
        "    if x[2] > SLOPE * x[1] + INTERCEPT:\n",
        "        return 1\n",
        "    else:\n",
        "        return -1\n",
        "    \n",
        "def generate_data(n: int) -> tuple:\n",
        "    \"\"\"\n",
        "    n is the number of datapoints you want to generate\n",
        "    The return value should be a tuple with two elements (xn, yn), where xn and yn are both lists of length n\n",
        "    \"\"\"\n",
        "    # FILL IN\n",
        "    xn = []\n",
        "    yn = []\n",
        "    for i in range(n):\n",
        "        x = get_random_point()\n",
        "        y = target(x)\n",
        "        xn.append(x)\n",
        "        yn.append(y)\n",
        "    return xn, yn\n"
      ]
    },
    {
      "cell_type": "markdown",
      "metadata": {
        "id": "1TFkdYzsvvyx"
      },
      "source": [
        "If your code is correct, the following cell should raise no errors."
      ]
    },
    {
      "cell_type": "code",
      "execution_count": null,
      "metadata": {
        "colab": {
          "base_uri": "https://localhost:8080/"
        },
        "id": "RQvnvvugvvyx",
        "outputId": "ecd44b78-60f1-4915-ba88-4280f4b79627"
      },
      "outputs": [
        {
          "output_type": "stream",
          "name": "stdout",
          "text": [
            "generate_data works\n"
          ]
        }
      ],
      "source": [
        "def test_generate_data():\n",
        "    data = generate_data(3)\n",
        "    assert 2 == len(data)\n",
        "    assert 3 == len(data[0])\n",
        "    print('generate_data works')\n",
        "\n",
        "test_generate_data()"
      ]
    },
    {
      "cell_type": "markdown",
      "metadata": {
        "id": "sYHngX29vvyy"
      },
      "source": [
        "We now generate a dataset of 20 points:"
      ]
    },
    {
      "cell_type": "code",
      "execution_count": null,
      "metadata": {
        "id": "pZrzzP5Vvvyy"
      },
      "outputs": [],
      "source": [
        "x20, y20 = generate_data(20)"
      ]
    },
    {
      "cell_type": "markdown",
      "metadata": {
        "id": "gpxb1dicvvyy"
      },
      "source": [
        "**3. Plot the examples ${(x_n, y_n)}$ as well as the target function** \n",
        "(use `matplotlib`) (1 point)"
      ]
    },
    {
      "cell_type": "code",
      "execution_count": null,
      "metadata": {
        "colab": {
          "base_uri": "https://localhost:8080/",
          "height": 455
        },
        "id": "xj3dmoi8vvyy",
        "outputId": "e7b5d786-5a73-4567-9a0d-838778bf89e6"
      },
      "outputs": [
        {
          "output_type": "display_data",
          "data": {
            "text/plain": [
              "<Figure size 640x480 with 1 Axes>"
            ],
            "image/png": "[encoded data removed]"
          },
          "metadata": {}
        }
      ],
      "source": [
        "import matplotlib.pyplot as plt\n",
        "\n",
        "def get_plot_markers(yn: list) -> list:\n",
        "    \"\"\"\n",
        "    Return a list of different markers for +1 and -1 samples\n",
        "    The return value plot_marker should be a list of length n containing markers\n",
        "    Each marker is a 1-character string\n",
        "    There should be 1 marker for +1 and 1 marker for -1\n",
        "    \"\"\"\n",
        "    plot_marker = []\n",
        "    for i in yn:\n",
        "        if i == 1:\n",
        "            plot_marker.append('.')\n",
        "        else:\n",
        "            plot_marker.append('s')\n",
        "    return plot_marker\n",
        "\n",
        "def plot(xn, yn):\n",
        "    # The x axis should be the x1 axis of the data\n",
        "    # The y axis should be the x2 axis of the data\n",
        "    # The marker should be different for +1 and -1 samples\n",
        "\n",
        "    plot_x = [x[1] for x in xn]\n",
        "    plot_y = [x[2] for x in xn]\n",
        "    plot_marker = get_plot_markers(yn)\n",
        "\n",
        "    # Plot the markers of the datapoints\n",
        "    fig, ax = plt.subplots()\n",
        "    for xp, yp, m in zip(plot_x, plot_y, plot_marker):\n",
        "        ax.scatter([xp],[yp], marker=m, color='b')\n",
        "\n",
        "    # Add the random line used to generate the target function (HINT: use SLOPE and INTERCEPT)\n",
        "    m = []\n",
        "    n = []\n",
        "    for x in range(-MAX_VAL, MAX_VAL):\n",
        "        m.append(SLOPE*x+INTERCEPT)\n",
        "        n.append(x)\n",
        "        \n",
        "    plt.plot(n, m)\n",
        "    \n",
        "    # Add axis labels and a legend\n",
        "    plt.xlabel('x1')\n",
        "    plt.xlabel('x2')\n",
        "    # plt.legend()\n",
        "    plt.xlim(-MAX_VAL, MAX_VAL)\n",
        "    plt.ylim(-MAX_VAL, MAX_VAL)\n",
        "    plt.show()\n",
        "    \n",
        "plot(x20, y20)"
      ]
    },
    {
      "cell_type": "markdown",
      "metadata": {
        "id": "VAe-aUGtvvyz"
      },
      "source": [
        "If your code is correct, the following cell should raise no errors."
      ]
    },
    {
      "cell_type": "code",
      "execution_count": null,
      "metadata": {
        "colab": {
          "base_uri": "https://localhost:8080/"
        },
        "id": "q87bXFW1vvyz",
        "outputId": "fa5b7094-46e3-4c02-ddec-1ec729231b92"
      },
      "outputs": [
        {
          "output_type": "stream",
          "name": "stdout",
          "text": [
            "get_plot_markers works\n"
          ]
        }
      ],
      "source": [
        "def test_get_plot_markers():\n",
        "    markers = get_plot_markers([-1, 1])\n",
        "    assert 2 == len(markers)\n",
        "    assert markers[0] != markers[1]\n",
        "    print('get_plot_markers works')\n",
        "\n",
        "test_get_plot_markers()"
      ]
    },
    {
      "cell_type": "markdown",
      "metadata": {
        "id": "dWlnj3O5vvyz"
      },
      "source": [
        "Your plot should look approximately like this:\n",
        "\n",
        "<img src=\"sample_plot.png\" alt=\"drawing\" width=\"300\"/>"
      ]
    },
    {
      "cell_type": "markdown",
      "metadata": {
        "id": "rdFpzdLUvvyz"
      },
      "source": [
        "**4. Run the perceptron algorithm on the above dataset, and add the hypothesis \n",
        "to the plot.** (1 point)\n",
        "\n",
        "*Note* the number of iterations. "
      ]
    },
    {
      "cell_type": "code",
      "execution_count": null,
      "metadata": {
        "colab": {
          "base_uri": "https://localhost:8080/"
        },
        "id": "QhCPUiXDvvy0",
        "outputId": "841aeed6-4054-46a0-ef60-da0b15489b44"
      },
      "outputs": [
        {
          "output_type": "stream",
          "name": "stdout",
          "text": [
            "Converged in 41 iterations\n"
          ]
        }
      ],
      "source": [
        "w = learn_weights(x20, y20)"
      ]
    },
    {
      "cell_type": "markdown",
      "metadata": {
        "id": "tRzb8a5Yvvy0"
      },
      "source": [
        "**Answer.**"
      ]
    },
    {
      "cell_type": "code",
      "execution_count": null,
      "metadata": {
        "id": "sYKa0TjHvvy0",
        "colab": {
          "base_uri": "https://localhost:8080/",
          "height": 492
        },
        "outputId": "16f0a4af-e76b-4055-90b1-1a97e83f148e"
      },
      "outputs": [
        {
          "output_type": "stream",
          "name": "stderr",
          "text": [
            "WARNING:matplotlib.legend:No artists with labels found to put in legend.  Note that artists whose label start with an underscore are ignored when legend() is called with no argument.\n"
          ]
        },
        {
          "output_type": "display_data",
          "data": {
            "text/plain": [
              "<Figure size 640x480 with 1 Axes>"
            ],
            "image/png": "[encoded data removed]"
          },
          "metadata": {}
        }
      ],
      "source": [
        "def plot(xn, yn, w):\n",
        "    # The x axis should be the x1 axis of the data\n",
        "    # The y axis should be the x2 axis of the data\n",
        "    # The marker should be different for +1 and -1 samples\n",
        "    # w is the weights learned by the PLA\n",
        "\n",
        "    plot_x = [x[1] for x in xn]\n",
        "    plot_y = [x[2] for x in xn]\n",
        "    plot_marker = get_plot_markers(yn)\n",
        "\n",
        "    # Plot the markers of the datapoints\n",
        "    fig, ax = plt.subplots()\n",
        "    for xp, yp, m in zip(plot_x, plot_y, plot_marker):\n",
        "        ax.scatter([xp],[yp], marker=m, color='b')\n",
        "\n",
        "    # Add the random line used to generate the target function (HINT: use SLOPE and INTERCEPT)\n",
        "    # COPY FROM PREVIOUS VERSIO\n",
        "    Yold = []\n",
        "    X = []\n",
        "    for x in range(-MAX_VAL, MAX_VAL):\n",
        "        Yold.append(SLOPE*x+INTERCEPT)\n",
        "        X.append(x)\n",
        "    plt.plot(X,Yold, color='r')\n",
        "    \n",
        "    # Add the learned hypothesis\n",
        "    # To plot the hypothesis, we need to convert the weights w0, w1, w2 into a line\n",
        "    # HINT: you are looking for the line w[0] + w[1]x[[1] + w[2]x[2] = 0\n",
        "    # FILL IN\n",
        "    Ynew = []\n",
        "    for x in range(-MAX_VAL, MAX_VAL):\n",
        "        Ynew.append((w[1]*x+ w[0])/-w[2])\n",
        "    plt.plot(X,Ynew)\n",
        "    \n",
        "\n",
        "    # Add axis labels and a legend\n",
        "    plt.xlabel('x1')\n",
        "    plt.xlabel('x2')\n",
        "    plt.legend()\n",
        "    plt.xlim(-MAX_VAL, MAX_VAL)\n",
        "    plt.ylim(-MAX_VAL, MAX_VAL)\n",
        "    plt.show()\n",
        "    \n",
        "plot(x20, y20, w)"
      ]
    },
    {
      "cell_type": "markdown",
      "metadata": {
        "id": "_v3wgtQSvvy1"
      },
      "source": [
        "Your plot should look approximately like this:\n",
        "\n",
        "<img src=\"sample_plot_hyp.png\" alt=\"drawing\" width=\"300\"/>"
      ]
    },
    {
      "cell_type": "markdown",
      "metadata": {
        "id": "TA-orhN7vvy1"
      },
      "source": [
        "**5. Generate another random dataset of 20 points, and repeat** (1 point)\n",
        "\n",
        "Compare with the above results."
      ]
    },
    {
      "cell_type": "markdown",
      "metadata": {
        "id": "_z_Bo1oOvvy1"
      },
      "source": [
        "**Answer.**"
      ]
    },
    {
      "cell_type": "code",
      "execution_count": null,
      "metadata": {
        "id": "1UPCNzGZvvy1",
        "colab": {
          "base_uri": "https://localhost:8080/",
          "height": 510
        },
        "outputId": "49b124e7-dee8-4de4-ee53-7876d734cf6b"
      },
      "outputs": [
        {
          "output_type": "stream",
          "name": "stderr",
          "text": [
            "WARNING:matplotlib.legend:No artists with labels found to put in legend.  Note that artists whose label start with an underscore are ignored when legend() is called with no argument.\n"
          ]
        },
        {
          "output_type": "stream",
          "name": "stdout",
          "text": [
            "Converged in 61 iterations\n"
          ]
        },
        {
          "output_type": "display_data",
          "data": {
            "text/plain": [
              "<Figure size 640x480 with 1 Axes>"
            ],
            "image/png": "[encoded data removed]"
          },
          "metadata": {}
        }
      ],
      "source": [
        "# FILL IN\n",
        "# Use the same functions provided above\n",
        "x20, y20 = generate_data(20)\n",
        "w = learn_weights(x20, y20)\n",
        "plot(x20,y20,w)"
      ]
    },
    {
      "cell_type": "markdown",
      "metadata": {
        "id": "gqiivPOsvvy2"
      },
      "source": [
        "Your plot should look like the previous one, but not be exactly the same."
      ]
    },
    {
      "cell_type": "markdown",
      "metadata": {
        "id": "oHJri4nvvvy2"
      },
      "source": [
        "**6a. General a dataset of 1000 points and repeat.** (1 point)\n",
        "\n",
        "Note how this compares with the above results."
      ]
    },
    {
      "cell_type": "markdown",
      "metadata": {
        "id": "inIxP4rCvvy2"
      },
      "source": [
        "**Answer.**"
      ]
    },
    {
      "cell_type": "code",
      "execution_count": null,
      "metadata": {
        "tags": [],
        "id": "Dpk0iQb3vvy2",
        "colab": {
          "base_uri": "https://localhost:8080/",
          "height": 510
        },
        "outputId": "af4bf3a8-c11e-4358-ff02-1eac9a025ed7"
      },
      "outputs": [
        {
          "output_type": "stream",
          "name": "stdout",
          "text": [
            "Converged in 497001 iterations\n"
          ]
        },
        {
          "output_type": "stream",
          "name": "stderr",
          "text": [
            "WARNING:matplotlib.legend:No artists with labels found to put in legend.  Note that artists whose label start with an underscore are ignored when legend() is called with no argument.\n"
          ]
        },
        {
          "output_type": "display_data",
          "data": {
            "text/plain": [
              "<Figure size 640x480 with 1 Axes>"
            ],
            "image/png": "[encoded data removed]"
          },
          "metadata": {}
        }
      ],
      "source": [
        "# FILL IN\n",
        "# Use the same functions provided above\n",
        "x1000, y1000 = generate_data(1000)\n",
        "w = learn_weights(x1000,y1000)\n",
        "plot(x1000,y1000,w)"
      ]
    },
    {
      "cell_type": "markdown",
      "metadata": {
        "id": "juWijYvIvvy2"
      },
      "source": [
        "Your plot should be similar to the previous one, but with many more points."
      ]
    },
    {
      "cell_type": "markdown",
      "metadata": {
        "id": "qdlGHM6xvvy3"
      },
      "source": [
        "**6b. What can you say about what happens when you increase the number of datapoints?** (1 point)"
      ]
    },
    {
      "cell_type": "markdown",
      "metadata": {
        "id": "obRFeEDvvvy3"
      },
      "source": [
        "**Answer.**"
      ]
    },
    {
      "cell_type": "markdown",
      "metadata": {
        "id": "vNB0zu6ovvy3"
      },
      "source": [
        "*your answer here*\n",
        "\n",
        "Runtime is longer.\n",
        "\n",
        "The line with the learned weights is very similar to the original random line.\n",
        "\n",
        "There is less possability for variation so the learned line almost becomes the hypothetical line."
      ]
    }
  ],
  "metadata": {
    "kernelspec": {
      "display_name": "Python 3",
      "language": "python",
      "name": "python3"
    },
    "language_info": {
      "codemirror_mode": {
        "name": "ipython",
        "version": 3
      },
      "file_extension": ".py",
      "mimetype": "text/x-python",
      "name": "python",
      "nbconvert_exporter": "python",
      "pygments_lexer": "ipython3",
      "version": "3.10.4"
    },
    "colab": {
      "provenance": [],
      "include_colab_link": true
    }
  },
  "nbformat": 4,
  "nbformat_minor": 0
}